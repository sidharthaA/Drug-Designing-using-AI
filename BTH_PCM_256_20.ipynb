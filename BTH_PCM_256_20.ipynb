{
  "nbformat": 4,
  "nbformat_minor": 0,
  "metadata": {
    "colab": {
      "name": "BTH PCM_256_20.ipynb",
      "provenance": [],
      "collapsed_sections": [],
      "include_colab_link": true
    },
    "kernelspec": {
      "name": "python3",
      "display_name": "Python 3"
    },
    "accelerator": "GPU"
  },
  "cells": [
    {
      "cell_type": "markdown",
      "metadata": {
        "id": "view-in-github",
        "colab_type": "text"
      },
      "source": [
        "<a href=\"https://colab.research.google.com/github/sidharthaA/Drug-Designing-using-AI/blob/main/BTH_PCM_256_20.ipynb\" target=\"_parent\"><img src=\"https://colab.research.google.com/assets/colab-badge.svg\" alt=\"Open In Colab\"/></a>"
      ]
    },
    {
      "cell_type": "code",
      "metadata": {
        "id": "gc0wpOn9hXc_"
      },
      "source": [
        "import math\n",
        "import numpy as np\n",
        "import h5py\n",
        "import matplotlib.pyplot as plt\n",
        "#import tensorflow as tf\n",
        "#from tensorflow.python.framework import ops\n",
        "import pandas as pd\n",
        "  \n",
        "%matplotlib inline\n",
        "np.random.seed(1)"
      ],
      "execution_count": null,
      "outputs": []
    },
    {
      "cell_type": "code",
      "metadata": {
        "id": "ulaQBxDs9CqF"
      },
      "source": [
        "#import lasagne \n",
        "#import theano.tensor as T\n",
        "import pandas as pd\n",
        "import numpy as np\n",
        "import os\n",
        "import sys\n",
        "\n",
        "#import _pickle "
      ],
      "execution_count": null,
      "outputs": []
    },
    {
      "cell_type": "code",
      "metadata": {
        "id": "DUtWLmWr_i2d",
        "outputId": "eee0fd15-9285-47ca-e17f-a09567aa6851",
        "colab": {
          "base_uri": "https://localhost:8080/",
          "height": 51
        }
      },
      "source": [
        "!pip install -U -q PyDrive\n",
        "from pydrive.auth import GoogleAuth\n",
        "from pydrive.drive import GoogleDrive\n",
        "from google.colab import auth\n",
        "from oauth2client.client import GoogleCredentials\n",
        "\n"
      ],
      "execution_count": null,
      "outputs": [
        {
          "output_type": "stream",
          "text": [
            "\u001b[?25l\r\u001b[K     |▎                               | 10kB 16.2MB/s eta 0:00:01\r\u001b[K     |▋                               | 20kB 1.9MB/s eta 0:00:01\r\u001b[K     |█                               | 30kB 2.7MB/s eta 0:00:01\r\u001b[K     |█▎                              | 40kB 1.8MB/s eta 0:00:01\r\u001b[K     |█▋                              | 51kB 2.2MB/s eta 0:00:01\r\u001b[K     |██                              | 61kB 2.6MB/s eta 0:00:01\r\u001b[K     |██▎                             | 71kB 3.0MB/s eta 0:00:01\r\u001b[K     |██▋                             | 81kB 3.4MB/s eta 0:00:01\r\u001b[K     |███                             | 92kB 3.8MB/s eta 0:00:01\r\u001b[K     |███▎                            | 102kB 2.9MB/s eta 0:00:01\r\u001b[K     |███▋                            | 112kB 2.9MB/s eta 0:00:01\r\u001b[K     |████                            | 122kB 2.9MB/s eta 0:00:01\r\u001b[K     |████▎                           | 133kB 2.9MB/s eta 0:00:01\r\u001b[K     |████▋                           | 143kB 2.9MB/s eta 0:00:01\r\u001b[K     |█████                           | 153kB 2.9MB/s eta 0:00:01\r\u001b[K     |█████▎                          | 163kB 2.9MB/s eta 0:00:01\r\u001b[K     |█████▋                          | 174kB 2.9MB/s eta 0:00:01\r\u001b[K     |██████                          | 184kB 2.9MB/s eta 0:00:01\r\u001b[K     |██████▎                         | 194kB 2.9MB/s eta 0:00:01\r\u001b[K     |██████▋                         | 204kB 2.9MB/s eta 0:00:01\r\u001b[K     |███████                         | 215kB 2.9MB/s eta 0:00:01\r\u001b[K     |███████▎                        | 225kB 2.9MB/s eta 0:00:01\r\u001b[K     |███████▋                        | 235kB 2.9MB/s eta 0:00:01\r\u001b[K     |████████                        | 245kB 2.9MB/s eta 0:00:01\r\u001b[K     |████████▎                       | 256kB 2.9MB/s eta 0:00:01\r\u001b[K     |████████▋                       | 266kB 2.9MB/s eta 0:00:01\r\u001b[K     |█████████                       | 276kB 2.9MB/s eta 0:00:01\r\u001b[K     |█████████▎                      | 286kB 2.9MB/s eta 0:00:01\r\u001b[K     |█████████▋                      | 296kB 2.9MB/s eta 0:00:01\r\u001b[K     |██████████                      | 307kB 2.9MB/s eta 0:00:01\r\u001b[K     |██████████▎                     | 317kB 2.9MB/s eta 0:00:01\r\u001b[K     |██████████▋                     | 327kB 2.9MB/s eta 0:00:01\r\u001b[K     |███████████                     | 337kB 2.9MB/s eta 0:00:01\r\u001b[K     |███████████▎                    | 348kB 2.9MB/s eta 0:00:01\r\u001b[K     |███████████▋                    | 358kB 2.9MB/s eta 0:00:01\r\u001b[K     |████████████                    | 368kB 2.9MB/s eta 0:00:01\r\u001b[K     |████████████▎                   | 378kB 2.9MB/s eta 0:00:01\r\u001b[K     |████████████▋                   | 389kB 2.9MB/s eta 0:00:01\r\u001b[K     |█████████████                   | 399kB 2.9MB/s eta 0:00:01\r\u001b[K     |█████████████▎                  | 409kB 2.9MB/s eta 0:00:01\r\u001b[K     |█████████████▋                  | 419kB 2.9MB/s eta 0:00:01\r\u001b[K     |██████████████                  | 430kB 2.9MB/s eta 0:00:01\r\u001b[K     |██████████████▎                 | 440kB 2.9MB/s eta 0:00:01\r\u001b[K     |██████████████▋                 | 450kB 2.9MB/s eta 0:00:01\r\u001b[K     |███████████████                 | 460kB 2.9MB/s eta 0:00:01\r\u001b[K     |███████████████▎                | 471kB 2.9MB/s eta 0:00:01\r\u001b[K     |███████████████▋                | 481kB 2.9MB/s eta 0:00:01\r\u001b[K     |████████████████                | 491kB 2.9MB/s eta 0:00:01\r\u001b[K     |████████████████▎               | 501kB 2.9MB/s eta 0:00:01\r\u001b[K     |████████████████▋               | 512kB 2.9MB/s eta 0:00:01\r\u001b[K     |█████████████████               | 522kB 2.9MB/s eta 0:00:01\r\u001b[K     |█████████████████▎              | 532kB 2.9MB/s eta 0:00:01\r\u001b[K     |█████████████████▋              | 542kB 2.9MB/s eta 0:00:01\r\u001b[K     |██████████████████              | 552kB 2.9MB/s eta 0:00:01\r\u001b[K     |██████████████████▎             | 563kB 2.9MB/s eta 0:00:01\r\u001b[K     |██████████████████▋             | 573kB 2.9MB/s eta 0:00:01\r\u001b[K     |███████████████████             | 583kB 2.9MB/s eta 0:00:01\r\u001b[K     |███████████████████▎            | 593kB 2.9MB/s eta 0:00:01\r\u001b[K     |███████████████████▋            | 604kB 2.9MB/s eta 0:00:01\r\u001b[K     |████████████████████            | 614kB 2.9MB/s eta 0:00:01\r\u001b[K     |████████████████████▎           | 624kB 2.9MB/s eta 0:00:01\r\u001b[K     |████████████████████▋           | 634kB 2.9MB/s eta 0:00:01\r\u001b[K     |█████████████████████           | 645kB 2.9MB/s eta 0:00:01\r\u001b[K     |█████████████████████▎          | 655kB 2.9MB/s eta 0:00:01\r\u001b[K     |█████████████████████▋          | 665kB 2.9MB/s eta 0:00:01\r\u001b[K     |██████████████████████          | 675kB 2.9MB/s eta 0:00:01\r\u001b[K     |██████████████████████▎         | 686kB 2.9MB/s eta 0:00:01\r\u001b[K     |██████████████████████▋         | 696kB 2.9MB/s eta 0:00:01\r\u001b[K     |███████████████████████         | 706kB 2.9MB/s eta 0:00:01\r\u001b[K     |███████████████████████▎        | 716kB 2.9MB/s eta 0:00:01\r\u001b[K     |███████████████████████▋        | 727kB 2.9MB/s eta 0:00:01\r\u001b[K     |████████████████████████        | 737kB 2.9MB/s eta 0:00:01\r\u001b[K     |████████████████████████▎       | 747kB 2.9MB/s eta 0:00:01\r\u001b[K     |████████████████████████▋       | 757kB 2.9MB/s eta 0:00:01\r\u001b[K     |████████████████████████▉       | 768kB 2.9MB/s eta 0:00:01\r\u001b[K     |█████████████████████████▏      | 778kB 2.9MB/s eta 0:00:01\r\u001b[K     |█████████████████████████▌      | 788kB 2.9MB/s eta 0:00:01\r\u001b[K     |█████████████████████████▉      | 798kB 2.9MB/s eta 0:00:01\r\u001b[K     |██████████████████████████▏     | 808kB 2.9MB/s eta 0:00:01\r\u001b[K     |██████████████████████████▌     | 819kB 2.9MB/s eta 0:00:01\r\u001b[K     |██████████████████████████▉     | 829kB 2.9MB/s eta 0:00:01\r\u001b[K     |███████████████████████████▏    | 839kB 2.9MB/s eta 0:00:01\r\u001b[K     |███████████████████████████▌    | 849kB 2.9MB/s eta 0:00:01\r\u001b[K     |███████████████████████████▉    | 860kB 2.9MB/s eta 0:00:01\r\u001b[K     |████████████████████████████▏   | 870kB 2.9MB/s eta 0:00:01\r\u001b[K     |████████████████████████████▌   | 880kB 2.9MB/s eta 0:00:01\r\u001b[K     |████████████████████████████▉   | 890kB 2.9MB/s eta 0:00:01\r\u001b[K     |█████████████████████████████▏  | 901kB 2.9MB/s eta 0:00:01\r\u001b[K     |█████████████████████████████▌  | 911kB 2.9MB/s eta 0:00:01\r\u001b[K     |█████████████████████████████▉  | 921kB 2.9MB/s eta 0:00:01\r\u001b[K     |██████████████████████████████▏ | 931kB 2.9MB/s eta 0:00:01\r\u001b[K     |██████████████████████████████▌ | 942kB 2.9MB/s eta 0:00:01\r\u001b[K     |██████████████████████████████▉ | 952kB 2.9MB/s eta 0:00:01\r\u001b[K     |███████████████████████████████▏| 962kB 2.9MB/s eta 0:00:01\r\u001b[K     |███████████████████████████████▌| 972kB 2.9MB/s eta 0:00:01\r\u001b[K     |███████████████████████████████▉| 983kB 2.9MB/s eta 0:00:01\r\u001b[K     |████████████████████████████████| 993kB 2.9MB/s \n",
            "\u001b[?25h  Building wheel for PyDrive (setup.py) ... \u001b[?25l\u001b[?25hdone\n"
          ],
          "name": "stdout"
        }
      ]
    },
    {
      "cell_type": "code",
      "metadata": {
        "id": "AnIq2cSQEDCu"
      },
      "source": [
        "auth.authenticate_user()\n",
        "gauth = GoogleAuth()\n",
        "gauth.credentials= GoogleCredentials.get_application_default()\n",
        "drive=GoogleDrive(gauth)\n",
        "#4/_QD_IUfoboV1WT_E8cG35ucGqNxRC0m0s7ZSWAW5iP6AVOWRpxwrWp0"
      ],
      "execution_count": null,
      "outputs": []
    },
    {
      "cell_type": "code",
      "metadata": {
        "id": "3fO1fLvZEe19"
      },
      "source": [
        "link='https://drive.google.com/open?id=18ayHUA1M7tcz-N6HZRvBnZkMCbFedWHv'\n",
        "#link2='https://drive.google.com/open?id=1Tj4fEXcoWBFr2ixSTd7cb5_2lPrm4F9a'\n",
        "poof,file_id=link.split(\"=\")\n",
        "#file_id2='1Tj4fEXcoWBFr2ixSTd7cb5_2lPrm4F9a'\n",
        "downloaded=  drive.CreateFile({'id':file_id})\n",
        "#downloaded2= drive.CreateFIled2':file_id2})\n",
        "\n",
        "downloaded.GetContentFile('compound_features_256.csv') #Training dataset\n",
        "#downloaded2.GetContentFile('AID373AID439red_test.csv') #Testing dataset\n",
        "data= pd.read_csv('compound_features_256.csv',sep=\"\\t\",header=0)\n",
        "#data2= pd.read.csv('AID373AID439red_test.csv')\n"
      ],
      "execution_count": null,
      "outputs": []
    },
    {
      "cell_type": "code",
      "metadata": {
        "id": "4-hMJfxGkGRS"
      },
      "source": [
        "def GetFile(path,file_name,delim=\"\\t\",file_id=None):\n",
        "  \n",
        "  if not file_id:\n",
        "    poof,file_id=path.split(\"=\")\n",
        "  \n",
        "    \n",
        "  downloaded=  drive.CreateFile({'id':file_id})\n",
        "  downloaded.GetContentFile(file_name) #Training dataset\n",
        "  data= pd.read_csv(file_name, sep=delim, header=0)\n",
        "  \n",
        "  return data"
      ],
      "execution_count": null,
      "outputs": []
    },
    {
      "cell_type": "code",
      "metadata": {
        "id": "WSTzJ_4SzInp",
        "outputId": "68a71401-9d28-443e-a572-a537774713f1",
        "colab": {
          "base_uri": "https://localhost:8080/",
          "height": 71
        }
      },
      "source": [
        "file_id2='1qJC5BAbBUXv4VHI0eIg92G-n9z8XF-Fy'\n",
        "xyz=drive.CreateFile({'id':file_id2})\n",
        "xyz.GetContentFile('compound_additional_physchem_features.txt')\n",
        "data2 = pd.read_csv('compound_additional_physchem_features.txt',sep=\"\\t\",header=0)"
      ],
      "execution_count": null,
      "outputs": [
        {
          "output_type": "stream",
          "text": [
            "/usr/local/lib/python3.6/dist-packages/IPython/core/interactiveshell.py:2718: DtypeWarning: Columns (64,65,66,67,68,69,70,71,72,73,74,90) have mixed types. Specify dtype option on import or set low_memory=False.\n",
            "  interactivity=interactivity, compiler=compiler, result=result)\n"
          ],
          "name": "stderr"
        }
      ]
    },
    {
      "cell_type": "code",
      "metadata": {
        "id": "h3ALOvtpFDte"
      },
      "source": [
        "file_id4='1R9NC1bIu7pJfrMVIfkNelGy1ijPaJKR3'\n",
        "abcd=drive.CreateFile({'id':file_id4})\n",
        "abcd.GetContentFile('Protein_Descriptors_20_sections.txt')\n",
        "prot_desc = pd.read_csv('Protein_Descriptors_20_sections.txt',sep=\"\\t\",header=0)"
      ],
      "execution_count": null,
      "outputs": []
    },
    {
      "cell_type": "code",
      "metadata": {
        "id": "rCWnFQ_LKtza"
      },
      "source": [
        "file_id3='1SGX3gptAPDm_ZGo0_fQHdDV8ymUMwSvR'\n",
        "abc=drive.CreateFile({'id':file_id3})\n",
        "abc.GetContentFile('activity_train.txt')\n",
        "trainset = pd.read_csv('activity_train.txt',sep=\" \",header=0)\n",
        "trainset['Target_ID'] = 'CHEMBL' + trainset['Target_ID'].astype(str)"
      ],
      "execution_count": null,
      "outputs": []
    },
    {
      "cell_type": "code",
      "metadata": {
        "id": "sXFrs3LqMO8w",
        "outputId": "cf4621d6-a978-4a35-ffd0-242316d2c08f",
        "colab": {
          "base_uri": "https://localhost:8080/",
          "height": 34
        }
      },
      "source": [
        "prot=pd.DataFrame(trainset['Target_ID'])\n",
        "prot=prot.drop_duplicates(subset=None, keep='first', inplace=False)\n",
        "prot2=prot_desc.set_index('TGT_CHEMBL_ID').join(prot.set_index('Target_ID'))\n",
        "mergedStuff = pd.merge(prot_desc,prot , left_on=['TGT_CHEMBL_ID'],right_on=['Target_ID'], how='inner')\n",
        "mergedStuff.shape"
      ],
      "execution_count": null,
      "outputs": [
        {
          "output_type": "execute_result",
          "data": {
            "text/plain": [
              "(1228, 192)"
            ]
          },
          "metadata": {
            "tags": []
          },
          "execution_count": 11
        }
      ]
    },
    {
      "cell_type": "code",
      "metadata": {
        "id": "DFaqjStCIPoq"
      },
      "source": [
        "totalcmp = data.set_index('Compound_ID').join(data2.set_index('CMP_CHEMBL_ID'))\n",
        "totalcmp.insert(0,\"Compound_ID\",list(totalcmp.index),True)\n",
        "totalcmp=totalcmp.drop_duplicates(subset=None, keep='first', inplace=False)\n",
        "train_val = pd.DataFrame(trainset[['Compound_ID','Active']])\n",
        "targetprots = trainset.set_index('Target_ID').join(prot_desc.set_index('TGT_CHEMBL_ID'))\n",
        "#targetprots = targetprots.drop(columns=['Active'])\n",
        "targetprots.insert(0,\"Target_ID\",list(targetprots.index),True)\n",
        "targetprots['Compound_ID'] = 'CHEMBL' + targetprots['Compound_ID'].astype(str)\n",
        "X_pcm = targetprots.set_index('Compound_ID').join(totalcmp.set_index(\"Compound_ID\"))\n",
        "#X_pcm\n"
      ],
      "execution_count": null,
      "outputs": []
    },
    {
      "cell_type": "code",
      "metadata": {
        "id": "zt6hEM-VhTye"
      },
      "source": [
        "y=trainset.copy()\n",
        "prot"
      ],
      "execution_count": null,
      "outputs": []
    },
    {
      "cell_type": "code",
      "metadata": {
        "id": "Mews2V2Gs-ot"
      },
      "source": [
        "#https://drive.google.com/open?id=1hJ28sWQ8i0oim5kCa3Fm219RvGFN2YuD\n",
        "file_id5='1hJ28sWQ8i0oim5kCa3Fm219RvGFN2YuD'\n",
        "abc=drive.CreateFile({'id':file_id5})\n",
        "abc.GetContentFile('activity_test_eval.txt')\n",
        "testset = pd.read_csv('activity_test_eval.txt',sep=\" \",header=0)\n",
        "testset['Target_ID'] = 'CHEMBL' + testset['Target_ID'].astype(str)\n",
        "testset['Compound_ID'] = 'CHEMBL' + testset['Compound_ID'].astype(str)"
      ],
      "execution_count": null,
      "outputs": []
    },
    {
      "cell_type": "code",
      "metadata": {
        "id": "rF-H1x33J92J",
        "outputId": "4e027964-21ed-4be4-b53c-4acf188e78f9",
        "colab": {
          "base_uri": "https://localhost:8080/",
          "height": 34
        }
      },
      "source": [
        "targetprots_test = testset.set_index('Target_ID').join(prot_desc.set_index('TGT_CHEMBL_ID'))\n",
        "targetprots_test.insert(0,\"Target_ID\",list(targetprots_test.index),True)\n",
        "#targetprots_test['Compound_ID'] = 'CHEMBL' + targetprots_test['Compound_ID'].astype(str)\n",
        "X_pcm_Test = targetprots_test.set_index('Compound_ID').join(totalcmp.set_index(\"Compound_ID\"))\n",
        "targetprots.shape"
      ],
      "execution_count": null,
      "outputs": [
        {
          "output_type": "execute_result",
          "data": {
            "text/plain": [
              "(251387, 193)"
            ]
          },
          "metadata": {
            "tags": []
          },
          "execution_count": 14
        }
      ]
    },
    {
      "cell_type": "code",
      "metadata": {
        "id": "MMfZlMAdikui",
        "outputId": "6a54d004-467e-4c76-e272-58c5171b668e",
        "colab": {
          "base_uri": "https://localhost:8080/",
          "height": 129
        }
      },
      "source": [
        "for item in prot:\n",
        "  for it in trainset:\n",
        "    if item "
      ],
      "execution_count": null,
      "outputs": [
        {
          "output_type": "error",
          "ename": "SyntaxError",
          "evalue": "ignored",
          "traceback": [
            "\u001b[0;36m  File \u001b[0;32m\"<ipython-input-15-59faf2610cbe>\"\u001b[0;36m, line \u001b[0;32m3\u001b[0m\n\u001b[0;31m    if item\u001b[0m\n\u001b[0m            ^\u001b[0m\n\u001b[0;31mSyntaxError\u001b[0m\u001b[0;31m:\u001b[0m invalid syntax\n"
          ]
        }
      ]
    },
    {
      "cell_type": "code",
      "metadata": {
        "id": "dZ_BZGsOV1pV"
      },
      "source": [
        "def scale_data(X_train, X_test):\n",
        "    from sklearn.preprocessing import MinMaxScaler\n",
        "    scaler = MinMaxScaler()\n",
        "    # Fit the scaler based on the training data, then apply the same scaling to both training and test sets.\n",
        "    scaler.fit(X_train)\n",
        "\n",
        "    X_train = scaler.transform(X_train)\n",
        "    X_test = scaler.transform(X_test)\n",
        "\n",
        "    X_train = pd.DataFrame(X_train)\n",
        "    X_test = pd.DataFrame(X_test)\n",
        "    \n",
        "\n",
        "#    if not train_fp.empty or test_fp.empty:\n",
        "#        train_fp = pd.DataFrame(train_fp)\n",
        "#        test_fp = pd.DataFrame(test_fp)\n",
        "#        X_train = pd.concat([X_train, train_fp], axis = 1)\n",
        "#        X_test = pd.concat([X_test, test_fp], axis = 1)\n",
        "\n",
        "\n",
        "    X_train = np.array(X_train, dtype=np.float32)\n",
        "    X_test = np.array(X_test, dtype=np.float32)\n",
        "\n",
        "    return X_train, X_test\n"
      ],
      "execution_count": null,
      "outputs": []
    },
    {
      "cell_type": "code",
      "metadata": {
        "id": "igrKWz2KUvzQ",
        "colab": {
          "base_uri": "https://localhost:8080/",
          "height": 197
        },
        "outputId": "8a0cd1a5-0e1a-42b6-8eaa-8c196d26411d"
      },
      "source": [
        "#y_train=[[]]\n",
        "#y_train.shape[0] = X_pcm.shape[0]\n",
        "#y_train.shape[1] = prot_desc.shape[0]\n",
        "\n",
        "train_x, test_x = scale_data(train_x, test_x)\n",
        "\n"
      ],
      "execution_count": null,
      "outputs": [
        {
          "output_type": "error",
          "ename": "NameError",
          "evalue": "ignored",
          "traceback": [
            "\u001b[0;31m---------------------------------------------------------------------------\u001b[0m",
            "\u001b[0;31mNameError\u001b[0m                                 Traceback (most recent call last)",
            "\u001b[0;32m<ipython-input-16-950b6fcdfe0b>\u001b[0m in \u001b[0;36m<module>\u001b[0;34m()\u001b[0m\n\u001b[1;32m      1\u001b[0m \u001b[0;34m\u001b[0m\u001b[0m\n\u001b[0;32m----> 2\u001b[0;31m \u001b[0mtrain_x\u001b[0m\u001b[0;34m,\u001b[0m \u001b[0mtest_x\u001b[0m \u001b[0;34m=\u001b[0m \u001b[0mscale_data\u001b[0m\u001b[0;34m(\u001b[0m\u001b[0mtrain_x\u001b[0m\u001b[0;34m,\u001b[0m \u001b[0mtest_x\u001b[0m\u001b[0;34m)\u001b[0m\u001b[0;34m\u001b[0m\u001b[0;34m\u001b[0m\u001b[0m\n\u001b[0m\u001b[1;32m      3\u001b[0m \u001b[0;34m\u001b[0m\u001b[0m\n",
            "\u001b[0;31mNameError\u001b[0m: name 'train_x' is not defined"
          ]
        }
      ]
    },
    {
      "cell_type": "code",
      "metadata": {
        "id": "9qK8DggoFHOK"
      },
      "source": [
        "test_y = pd.get_dummies(test_y)\n"
      ],
      "execution_count": null,
      "outputs": []
    },
    {
      "cell_type": "code",
      "metadata": {
        "id": "d_QlVFLir2ke"
      },
      "source": [
        "test_y.sum()\n",
        "#test_y['CHEMBL261'].value_counts()"
      ],
      "execution_count": null,
      "outputs": []
    },
    {
      "cell_type": "code",
      "metadata": {
        "id": "cgMv8ipzIIkr"
      },
      "source": [
        "#len(test_y[test_y['CHEMBL6165']==1].index.tolist())\n",
        "X_pcm_test[X_pcm_Test['Target_ID']='CHEMBL261'].tolist().count()"
      ],
      "execution_count": null,
      "outputs": []
    },
    {
      "cell_type": "code",
      "metadata": {
        "id": "wSydeILCpDkj",
        "colab": {
          "base_uri": "https://localhost:8080/",
          "height": 139
        },
        "outputId": "a58b2466-af92-4132-94d0-8f82cddea696"
      },
      "source": [
        "import io\n",
        "\n",
        "# data = pd.read_csv(io.BytesIO(uploaded['neural.csv']))\n",
        "#data = pd.read_csv(content/neural4.csv)\n",
        "data_tr = X_pcm.copy()\n",
        "data_test = X_pcm_Test.copy()\n",
        "\n",
        "\n",
        "train_x = data_tr.iloc[:,2:].values\n",
        "test_x = data_test.iloc[:,2:].values\n",
        "\n",
        "#train_x, test_x = scale_data(train_x, test_x)\n",
        "test_y = data_test.iloc[:,0]\n",
        "\n",
        "train_y = data_tr.iloc[:,0].values\n",
        "\n",
        "for idx,item in enumerate(data_test):\n",
        "  if data_test.iloc[idx,1] < 6.5:\n",
        "    test_y.iloc[idx] = None\n",
        "  \n",
        "    \n",
        "#reg_train_y=data_tr['Active']\n",
        "label=[]\n",
        "    \n",
        "#for ind,i in enumerate(data_tr['Active']):\n",
        "  \n",
        "#  if i>=6.5:\n",
        "#    x=\"Active\"\n",
        "\n",
        "#  else:\n",
        "#    x=\"Inactive\"\n",
        "    \n",
        "#  label.append(x)\n",
        "  \n",
        "''' \n",
        "for ind,trgt in enumerate(data_test['Target_ID']):\n",
        "  for idx,target in enumerate(prot_desc['TGT_CHEMBL_ID']):\n",
        "    if target==trgt:\n",
        "      y[idx].append(1)\n",
        "    else:\n",
        "      y[ind].append(0)\n",
        "      \n",
        "label2=[]\n",
        "\n",
        "for ind,i in enumerate(data_test['Active']):\n",
        "  \n",
        "  if i>=6.5:\n",
        "    x=\"Active\"\n",
        "\n",
        "  else:\n",
        "    x=\"Inactive\"\n",
        "    \n",
        "  label2.append(x)\n",
        "\n",
        "\n",
        "\n",
        "train_x = train_x.astype('float32')\n",
        "train_y = pd.get_dummies(train_y)\n",
        "\n",
        "test_x = test_x.astype('float32')\n",
        "test_y = pd.get_dummies(test_y)\n",
        "'''"
      ],
      "execution_count": null,
      "outputs": [
        {
          "output_type": "stream",
          "text": [
            "/usr/local/lib/python3.6/dist-packages/pandas/core/indexing.py:190: SettingWithCopyWarning: \n",
            "A value is trying to be set on a copy of a slice from a DataFrame\n",
            "\n",
            "See the caveats in the documentation: http://pandas.pydata.org/pandas-docs/stable/indexing.html#indexing-view-versus-copy\n",
            "  self._setitem_with_indexer(indexer, value)\n"
          ],
          "name": "stderr"
        },
        {
          "output_type": "execute_result",
          "data": {
            "text/plain": [
              "' \\nfor ind,trgt in enumerate(data_test[\\'Target_ID\\']):\\n  for idx,target in enumerate(prot_desc[\\'TGT_CHEMBL_ID\\']):\\n    if target==trgt:\\n      y[idx].append(1)\\n    else:\\n      y[ind].append(0)\\n      \\nlabel2=[]\\n\\nfor ind,i in enumerate(data_test[\\'Active\\']):\\n  \\n  if i>=6.5:\\n    x=\"Active\"\\n\\n  else:\\n    x=\"Inactive\"\\n    \\n  label2.append(x)\\n\\n\\n\\ntrain_x = train_x.astype(\\'float32\\')\\ntrain_y = pd.get_dummies(train_y)\\n\\ntest_x = test_x.astype(\\'float32\\')\\ntest_y = pd.get_dummies(test_y)\\n'"
            ]
          },
          "metadata": {
            "tags": []
          },
          "execution_count": 17
        }
      ]
    },
    {
      "cell_type": "code",
      "metadata": {
        "id": "-x2yfWO0pE5M"
      },
      "source": [
        "import keras\n",
        "from keras.models import Sequential\n",
        "from keras.layers import Dense\n",
        "from keras.layers import Dropout\n",
        "from keras import optimizers\n",
        "from keras import losses\n",
        "\n",
        "rate = 0.25\n",
        "\n",
        "clf = Sequential()\n",
        "clf.add(Dense(4000, input_dim = 545, activation = 'relu'))\n",
        "#clf.add(Dropout(rate))\n",
        "clf.add(Dense(2000, input_dim = 4000, activation = 'relu'))\n",
        "#clf.add(Dropout(rate))\n",
        "clf.add(Dense(1000, input_dim = 2000, activation = 'relu'))\n",
        "#clf.add(Dropout(rate))\n",
        "clf.add(Dense(1224, input_dim = 1000, activation = 'softmax'))\n",
        "\n",
        "sgd = optimizers.SGD(lr=0.01, decay=1e-6, momentum=0.8, nesterov=True)\n",
        "adm = optimizers.Adam(lr=0.1, beta_1=0.9, beta_2=0.999, epsilon=None, decay=1e-6, amsgrad=False)\n",
        "clf.compile(optimizer=sgd, loss='categorical_crossentropy', metrics=['accuracy'] )\n",
        " # metrics=['accuracy'], loss='mean_squared_error'"
      ],
      "execution_count": null,
      "outputs": []
    },
    {
      "cell_type": "code",
      "metadata": {
        "id": "yQdmgyhJpLHK"
      },
      "source": [
        "clf.fit(test_x, test_y , batch_size = 100, epochs = 50, validation_split=0.2) "
      ],
      "execution_count": null,
      "outputs": []
    },
    {
      "cell_type": "code",
      "metadata": {
        "id": "sa7pQwgfBqID"
      },
      "source": [
        "test_x.shape"
      ],
      "execution_count": null,
      "outputs": []
    },
    {
      "cell_type": "code",
      "metadata": {
        "id": "lmmIta8Oireb"
      },
      "source": [
        "from google.colab import files\n",
        "files.download('neural.csv')"
      ],
      "execution_count": null,
      "outputs": []
    }
  ]
}